{
 "cells": [
  {
   "cell_type": "code",
   "execution_count": 100,
   "id": "0b9f6046-9b71-4d6c-bd0e-b93e8603a641",
   "metadata": {},
   "outputs": [],
   "source": [
    "# Import libraries\n",
    "from bs4 import BeautifulSoup\n",
    "import requests\n",
    "import csv\n",
    "from datetime import date\n",
    "import time"
   ]
  },
  {
   "cell_type": "code",
   "execution_count": 101,
   "id": "64cbed62-7882-44ae-ba4b-1f68f647a460",
   "metadata": {},
   "outputs": [],
   "source": [
    "def check_price():\n",
    "    URL = 'https://www.amazon.in/Nikon-Mirrorless-Digital-Camera-24-70mm/dp/B08L5ZGKCZ/ref=sr_1_1?adgrpid=86209526109&dib=eyJ2IjoiMSJ9.CZV0jvE_mVNUUjdTJP1Vom_9LRAkQrdqtulD1O3XIblnauodVjSjSGmPUh3J1sB3NdP2B90inEFuSFsw0wMOPoa2EjK10ep-jb82LXWM0MujhbWfognevPYQYCEIVRb7kJnVKCld0WhKXmF-vOpJwX-j6VbmmwFpBjrTVLk8MQxAUZixffn0WaW-BcrUPJmU9hwIL9rVmKa4jR01VkIAKQ.PbOKNBVlo6RTyXN3SlXuxYsu7VnMM6cCXFUrhpUXXmw&dib_tag=se&ext_vrnc=hi&hvadid=590584000551&hvdev=c&hvlocphy=9198441&hvnetw=g&hvqmt=e&hvrand=4293508689147154219&hvtargid=kwd-785561578312&hydadcr=13659_2280185&keywords=amazon%2Bnikon%2Bz6&nsdOptOutParam=true&qid=1728310157&sr=8-1&th=1'\n",
    "    headers = {\"User-Agent\": \"Mozilla/5.0 (Windows NT 10.0; Win64; x64) AppleWebKit/537.36 (KHTML, like Gecko) Chrome/78.0.3904.108 Safari/537.36\"}\n",
    "    \n",
    "    page = requests.get(URL, headers=headers)\n",
    "    soup = BeautifulSoup(page.content, \"lxml\")\n",
    "    \n",
    "    title = soup.find(id='productTitle').get_text().strip()\n",
    "    price = soup.find(class_='a-price-whole').get_text()\n",
    "    \n",
    "    today = date.today()    \n",
    "    data = [title, price, today]    \n",
    "    \n",
    "    with open('AmazonWebScraperDataset.csv', 'a+', newline='', encoding='UTF8') as f:\n",
    "        writer = csv.writer(f)\n",
    "        writer.writerow(data)"
   ]
  },
  {
   "cell_type": "code",
   "execution_count": 102,
   "id": "f38f6661-3934-4d14-83dc-5f618e942474",
   "metadata": {},
   "outputs": [],
   "source": [
    "def run_scraper(interval=86400):\n",
    "    while True:\n",
    "        check_price()      \n",
    "        time.sleep(interval)"
   ]
  },
  {
   "cell_type": "code",
   "execution_count": null,
   "id": "333fa0eb-af36-45fb-baf9-b71cbb36b71e",
   "metadata": {},
   "outputs": [],
   "source": []
  },
  {
   "cell_type": "code",
   "execution_count": null,
   "id": "2b0f7b7f-8807-431f-a709-f09c1807a92c",
   "metadata": {},
   "outputs": [],
   "source": []
  },
  {
   "cell_type": "code",
   "execution_count": null,
   "id": "d023ee9d-c5ec-424d-b6c9-6f5722635851",
   "metadata": {},
   "outputs": [],
   "source": []
  }
 ],
 "metadata": {
  "kernelspec": {
   "display_name": "Python 3 (ipykernel)",
   "language": "python",
   "name": "python3"
  },
  "language_info": {
   "codemirror_mode": {
    "name": "ipython",
    "version": 3
   },
   "file_extension": ".py",
   "mimetype": "text/x-python",
   "name": "python",
   "nbconvert_exporter": "python",
   "pygments_lexer": "ipython3",
   "version": "3.12.4"
  }
 },
 "nbformat": 4,
 "nbformat_minor": 5
}
